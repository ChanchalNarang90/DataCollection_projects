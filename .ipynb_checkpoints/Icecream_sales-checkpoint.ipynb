{
 "cells": [
  {
   "cell_type": "markdown",
   "id": "be72833f-0533-438f-9fcc-435642e6c1c8",
   "metadata": {},
   "source": [
    "##Simple Linear Regression "
   ]
  },
  {
   "cell_type": "markdown",
   "id": "e10ac4e6-3176-4fe0-94b8-41e9a9a61d1e",
   "metadata": {},
   "source": [
    "## import libraries "
   ]
  },
  {
   "cell_type": "code",
   "execution_count": 49,
   "id": "e5a1301e-f06c-4085-938d-981e0f18b281",
   "metadata": {},
   "outputs": [],
   "source": [
    "import pandas as pd\n",
    "import numpy as np\n",
    "import matplotlib.pyplot as plt\n",
    "%matplotlib inline"
   ]
  },
  {
   "cell_type": "markdown",
   "id": "75d5660a-50e9-42c7-85d4-7c62a3c59700",
   "metadata": {},
   "source": [
    "# Points to remember\n",
    "equation: y=mx+c (bestfitline,straight line)\n",
    "m= slope,c= intercept\n",
    "y= dependent variable \n",
    "x= independent variable\n",
    "c=residual(actual-prediction)"
   ]
  },
  {
   "cell_type": "code",
   "execution_count": 50,
   "id": "694d578d-ec8e-418e-830e-1ebcc3cc2ab1",
   "metadata": {},
   "outputs": [
    {
     "name": "stdout",
     "output_type": "stream",
     "text": [
      "<class 'pandas.core.frame.DataFrame'>\n"
     ]
    },
    {
     "data": {
      "text/html": [
       "<div>\n",
       "<style scoped>\n",
       "    .dataframe tbody tr th:only-of-type {\n",
       "        vertical-align: middle;\n",
       "    }\n",
       "\n",
       "    .dataframe tbody tr th {\n",
       "        vertical-align: top;\n",
       "    }\n",
       "\n",
       "    .dataframe thead th {\n",
       "        text-align: right;\n",
       "    }\n",
       "</style>\n",
       "<table border=\"1\" class=\"dataframe\">\n",
       "  <thead>\n",
       "    <tr style=\"text-align: right;\">\n",
       "      <th></th>\n",
       "      <th>Temperature</th>\n",
       "      <th>Revenue</th>\n",
       "    </tr>\n",
       "  </thead>\n",
       "  <tbody>\n",
       "    <tr>\n",
       "      <th>0</th>\n",
       "      <td>24.566884</td>\n",
       "      <td>534.799028</td>\n",
       "    </tr>\n",
       "    <tr>\n",
       "      <th>1</th>\n",
       "      <td>26.005191</td>\n",
       "      <td>625.190122</td>\n",
       "    </tr>\n",
       "    <tr>\n",
       "      <th>2</th>\n",
       "      <td>27.790554</td>\n",
       "      <td>660.632289</td>\n",
       "    </tr>\n",
       "    <tr>\n",
       "      <th>3</th>\n",
       "      <td>20.595335</td>\n",
       "      <td>487.706960</td>\n",
       "    </tr>\n",
       "    <tr>\n",
       "      <th>4</th>\n",
       "      <td>11.503498</td>\n",
       "      <td>316.240194</td>\n",
       "    </tr>\n",
       "    <tr>\n",
       "      <th>...</th>\n",
       "      <td>...</td>\n",
       "      <td>...</td>\n",
       "    </tr>\n",
       "    <tr>\n",
       "      <th>495</th>\n",
       "      <td>22.274899</td>\n",
       "      <td>524.746364</td>\n",
       "    </tr>\n",
       "    <tr>\n",
       "      <th>496</th>\n",
       "      <td>32.893092</td>\n",
       "      <td>755.818399</td>\n",
       "    </tr>\n",
       "    <tr>\n",
       "      <th>497</th>\n",
       "      <td>12.588157</td>\n",
       "      <td>306.090719</td>\n",
       "    </tr>\n",
       "    <tr>\n",
       "      <th>498</th>\n",
       "      <td>22.362402</td>\n",
       "      <td>566.217304</td>\n",
       "    </tr>\n",
       "    <tr>\n",
       "      <th>499</th>\n",
       "      <td>28.957736</td>\n",
       "      <td>655.660388</td>\n",
       "    </tr>\n",
       "  </tbody>\n",
       "</table>\n",
       "<p>500 rows × 2 columns</p>\n",
       "</div>"
      ],
      "text/plain": [
       "     Temperature     Revenue\n",
       "0      24.566884  534.799028\n",
       "1      26.005191  625.190122\n",
       "2      27.790554  660.632289\n",
       "3      20.595335  487.706960\n",
       "4      11.503498  316.240194\n",
       "..           ...         ...\n",
       "495    22.274899  524.746364\n",
       "496    32.893092  755.818399\n",
       "497    12.588157  306.090719\n",
       "498    22.362402  566.217304\n",
       "499    28.957736  655.660388\n",
       "\n",
       "[500 rows x 2 columns]"
      ]
     },
     "execution_count": 50,
     "metadata": {},
     "output_type": "execute_result"
    }
   ],
   "source": [
    "Data=pd.read_csv('IceCreamData.csv')\n",
    "print(type(Data))\n",
    "Data"
   ]
  },
  {
   "cell_type": "markdown",
   "id": "2f007f33",
   "metadata": {},
   "source": [
    "## converted values in data to whole number"
   ]
  },
  {
   "cell_type": "code",
   "execution_count": 51,
   "id": "8a0110c4-7362-48dd-ac04-add41771267a",
   "metadata": {},
   "outputs": [
    {
     "data": {
      "text/html": [
       "<div>\n",
       "<style scoped>\n",
       "    .dataframe tbody tr th:only-of-type {\n",
       "        vertical-align: middle;\n",
       "    }\n",
       "\n",
       "    .dataframe tbody tr th {\n",
       "        vertical-align: top;\n",
       "    }\n",
       "\n",
       "    .dataframe thead th {\n",
       "        text-align: right;\n",
       "    }\n",
       "</style>\n",
       "<table border=\"1\" class=\"dataframe\">\n",
       "  <thead>\n",
       "    <tr style=\"text-align: right;\">\n",
       "      <th></th>\n",
       "      <th>Temperature</th>\n",
       "      <th>Revenue</th>\n",
       "    </tr>\n",
       "  </thead>\n",
       "  <tbody>\n",
       "    <tr>\n",
       "      <th>0</th>\n",
       "      <td>25</td>\n",
       "      <td>535</td>\n",
       "    </tr>\n",
       "    <tr>\n",
       "      <th>1</th>\n",
       "      <td>26</td>\n",
       "      <td>625</td>\n",
       "    </tr>\n",
       "    <tr>\n",
       "      <th>2</th>\n",
       "      <td>28</td>\n",
       "      <td>661</td>\n",
       "    </tr>\n",
       "    <tr>\n",
       "      <th>3</th>\n",
       "      <td>21</td>\n",
       "      <td>488</td>\n",
       "    </tr>\n",
       "    <tr>\n",
       "      <th>4</th>\n",
       "      <td>12</td>\n",
       "      <td>316</td>\n",
       "    </tr>\n",
       "    <tr>\n",
       "      <th>...</th>\n",
       "      <td>...</td>\n",
       "      <td>...</td>\n",
       "    </tr>\n",
       "    <tr>\n",
       "      <th>495</th>\n",
       "      <td>22</td>\n",
       "      <td>525</td>\n",
       "    </tr>\n",
       "    <tr>\n",
       "      <th>496</th>\n",
       "      <td>33</td>\n",
       "      <td>756</td>\n",
       "    </tr>\n",
       "    <tr>\n",
       "      <th>497</th>\n",
       "      <td>13</td>\n",
       "      <td>306</td>\n",
       "    </tr>\n",
       "    <tr>\n",
       "      <th>498</th>\n",
       "      <td>22</td>\n",
       "      <td>566</td>\n",
       "    </tr>\n",
       "    <tr>\n",
       "      <th>499</th>\n",
       "      <td>29</td>\n",
       "      <td>656</td>\n",
       "    </tr>\n",
       "  </tbody>\n",
       "</table>\n",
       "<p>500 rows × 2 columns</p>\n",
       "</div>"
      ],
      "text/plain": [
       "     Temperature  Revenue\n",
       "0             25      535\n",
       "1             26      625\n",
       "2             28      661\n",
       "3             21      488\n",
       "4             12      316\n",
       "..           ...      ...\n",
       "495           22      525\n",
       "496           33      756\n",
       "497           13      306\n",
       "498           22      566\n",
       "499           29      656\n",
       "\n",
       "[500 rows x 2 columns]"
      ]
     },
     "execution_count": 51,
     "metadata": {},
     "output_type": "execute_result"
    }
   ],
   "source": [
    "Data['Temperature']=list(map(lambda x:round(x),Data['Temperature']))\n",
    "Data['Revenue']=list(map(lambda x:round(x),Data['Revenue']))\n",
    "Data"
   ]
  },
  {
   "cell_type": "markdown",
   "id": "81b9bd60",
   "metadata": {},
   "source": [
    "### Missing value check"
   ]
  },
  {
   "cell_type": "code",
   "execution_count": 52,
   "id": "17a83f71-ef34-4911-b94f-db24fec7f785",
   "metadata": {},
   "outputs": [
    {
     "data": {
      "text/plain": [
       "Temperature    0\n",
       "Revenue        0\n",
       "dtype: int64"
      ]
     },
     "execution_count": 52,
     "metadata": {},
     "output_type": "execute_result"
    }
   ],
   "source": [
    "Data.isna().sum()"
   ]
  },
  {
   "cell_type": "markdown",
   "id": "5b6fe1a9-2f4d-4511-873f-6a8f790752d0",
   "metadata": {},
   "source": [
    "## DataVisualization"
   ]
  },
  {
   "cell_type": "markdown",
   "id": "4abf93ad",
   "metadata": {},
   "source": [
    "### checking for outliers"
   ]
  },
  {
   "cell_type": "code",
   "execution_count": 53,
   "id": "cf9ab662-20e2-456f-93f9-dca746178d61",
   "metadata": {
    "scrolled": false
   },
   "outputs": [
    {
     "data": {
      "image/png": "[encoded data removed]",
      "text/plain": [
       "<Figure size 640x480 with 1 Axes>"
      ]
     },
     "metadata": {},
     "output_type": "display_data"
    }
   ],
   "source": [
    " \n",
    "\n",
    "plt.boxplot(Data)\n",
    "plt.show()\n",
    "\n",
    "\n"
   ]
  },
  {
   "cell_type": "markdown",
   "id": "983cc60f",
   "metadata": {},
   "source": [
    "#### After removing outliers from Temperature column"
   ]
  },
  {
   "cell_type": "code",
   "execution_count": 58,
   "id": "f0dd644c-6ca3-4128-883c-e1376f19b86f",
   "metadata": {},
   "outputs": [
    {
     "data": {
      "text/plain": [
       "Index(['Temperature', 'Revenue'], dtype='object')"
      ]
     },
     "execution_count": 58,
     "metadata": {},
     "output_type": "execute_result"
    }
   ],
   "source": [
    "Data.columns[0]\n",
    "Data.columns[1]\n",
    "Data.columns[0]\n",
    "Data.columns\n",
    "\n",
    "# Data['temp']=filter(lambda x:(x>0 and x<=40),Data['Temperature'])\n"
   ]
  },
  {
   "cell_type": "markdown",
   "id": "5fabcaa4",
   "metadata": {},
   "source": [
    "### Outliers in Revenue"
   ]
  },
  {
   "cell_type": "code",
   "execution_count": null,
   "id": "5817c46b-4994-4b8a-8bad-ae77cb80eb12",
   "metadata": {},
   "outputs": [],
   "source": [
    "# plt.boxplot(Data['Revenue'])\n",
    "# plt.ylabel('Revenue')\n",
    "# plt.show()"
   ]
  },
  {
   "cell_type": "markdown",
   "id": "d1edb5d7",
   "metadata": {},
   "source": [
    "### After removing outliers from Revenue column"
   ]
  },
  {
   "cell_type": "code",
   "execution_count": null,
   "id": "f81605d7-2327-4599-bb50-16181f7e1cf1",
   "metadata": {},
   "outputs": [],
   "source": [
    "#Data['Revenue_new']=[]\n",
    "#Data['Revenue_new']=list(filter(lambda x:(x>100 and x<1000),Data['Revenue']))\n",
    "\n",
    "#Data['Temperature_new']=list(filter(lambda x:(x>0 and x<=40),Data['Temperature']))\n",
    "\n"
   ]
  },
  {
   "cell_type": "code",
   "execution_count": null,
   "id": "5ae17613-fb7c-4591-ae97-c0c2df5fc7ab",
   "metadata": {},
   "outputs": [],
   "source": [
    "\n",
    "plt.boxplot(Data)\n",
    "plt.show()\n",
    "Data['Revenue']=list(filter(lambda x:(x>100 and x<1000),Data['Revenue']))\n"
   ]
  },
  {
   "cell_type": "code",
   "execution_count": null,
   "id": "2a662068-92bc-4a2e-ad39-fab1f3bd5df1",
   "metadata": {},
   "outputs": [],
   "source": []
  },
  {
   "cell_type": "code",
   "execution_count": null,
   "id": "5439ed08",
   "metadata": {},
   "outputs": [],
   "source": []
  }
 ],
 "metadata": {
  "kernelspec": {
   "display_name": "Python 3 (ipykernel)",
   "language": "python",
   "name": "python3"
  },
  "language_info": {
   "codemirror_mode": {
    "name": "ipython",
    "version": 3
   },
   "file_extension": ".py",
   "mimetype": "text/x-python",
   "name": "python",
   "nbconvert_exporter": "python",
   "pygments_lexer": "ipython3",
   "version": "3.11.5"
  }
 },
 "nbformat": 4,
 "nbformat_minor": 5
}
